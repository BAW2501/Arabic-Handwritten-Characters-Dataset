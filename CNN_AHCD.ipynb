{
 "cells": [
  {
   "cell_type": "code",
   "execution_count": null,
   "id": "ab8187ae-80a1-4f4c-8ac3-de659071f735",
   "metadata": {},
   "outputs": [],
   "source": [
    "import matplotlib.pyplot as plt\n",
    "import numpy as np\n",
    "from pathlib import Path\n",
    "from sklearn.metrics import confusion_matrix,classification_report\n",
    "from tensorflow.python.keras import layers\n",
    "from tensorflow.python.keras.models import Sequential\n",
    "from tensorflow.python.keras.utils.all_utils import to_categorical\n",
    "np.set_printoptions(linewidth=150)\n",
    "img_shape = (32,32,1) # img_shape is 32,32 and 32,32,1 is needed for CNN"
   ]
  },
  {
   "cell_type": "code",
   "execution_count": 2,
   "id": "fed8ad79-7d08-487d-b0d2-245e78a3c68f",
   "metadata": {},
   "outputs": [],
   "source": [
    "def get_images(folder):\n",
    "    return np.array([plt.imread(file).reshape(img_shape) for file in folder.iterdir()])\n",
    "\n",
    "def get_labels(folder):\n",
    "    return np.array([int(file.stem.split('_')[-1]) for file in folder.iterdir()]) - 1\n",
    "\n",
    "def load_data(path):\n",
    "    return get_images(path), get_labels(path)"
   ]
  },
  {
   "cell_type": "code",
   "execution_count": 3,
   "id": "2f791f83-03bf-4754-9ccc-28055e6566a5",
   "metadata": {},
   "outputs": [],
   "source": [
    "train_folder = Path().cwd() / 'Dataset' / 'train'\n",
    "test_folder = Path().cwd() / 'Dataset' / 'test'\n",
    "\n",
    "train_images, train_labels = load_data(train_folder)\n",
    "test_images, test_labels = load_data(test_folder)"
   ]
  },
  {
   "cell_type": "code",
   "execution_count": 4,
   "id": "b2a1db94-3791-4928-b293-88141047a4e5",
   "metadata": {},
   "outputs": [],
   "source": [
    "n_class = len(np.unique(train_labels))\n",
    "train_labels = to_categorical(train_labels, num_classes=n_class)\n",
    "test_labels = to_categorical(test_labels, num_classes=n_class)"
   ]
  },
  {
   "cell_type": "code",
   "execution_count": 5,
   "id": "607666f7-590a-4e90-bdb8-fe297728fed8",
   "metadata": {},
   "outputs": [
    {
     "name": "stdout",
     "output_type": "stream",
     "text": [
      "Epoch 1/16\n",
      "420/420 [==============================] - 23s 45ms/step - loss: 1.1219 - accuracy: 0.6485\n",
      "Epoch 2/16\n",
      "420/420 [==============================] - 21s 51ms/step - loss: 0.3744 - accuracy: 0.8753\n",
      "Epoch 3/16\n",
      "420/420 [==============================] - 20s 47ms/step - loss: 0.2194 - accuracy: 0.9272\n",
      "Epoch 4/16\n",
      "420/420 [==============================] - 19s 46ms/step - loss: 0.1488 - accuracy: 0.9499\n",
      "Epoch 5/16\n",
      "420/420 [==============================] - 20s 47ms/step - loss: 0.0997 - accuracy: 0.9657\n",
      "Epoch 6/16\n",
      "420/420 [==============================] - 22s 52ms/step - loss: 0.0751 - accuracy: 0.9747\n",
      "Epoch 7/16\n",
      "420/420 [==============================] - 19s 45ms/step - loss: 0.0542 - accuracy: 0.9815\n",
      "Epoch 8/16\n",
      "420/420 [==============================] - 20s 49ms/step - loss: 0.0553 - accuracy: 0.9815\n",
      "Epoch 9/16\n",
      "420/420 [==============================] - 22s 53ms/step - loss: 0.0474 - accuracy: 0.9833\n",
      "Epoch 10/16\n",
      "420/420 [==============================] - 22s 54ms/step - loss: 0.0400 - accuracy: 0.9878\n",
      "Epoch 11/16\n",
      "420/420 [==============================] - 22s 53ms/step - loss: 0.0325 - accuracy: 0.9898\n",
      "Epoch 12/16\n",
      "420/420 [==============================] - 22s 53ms/step - loss: 0.0320 - accuracy: 0.9897\n",
      "Epoch 13/16\n",
      "420/420 [==============================] - 22s 53ms/step - loss: 0.0372 - accuracy: 0.9876\n",
      "Epoch 14/16\n",
      "420/420 [==============================] - 22s 53ms/step - loss: 0.0277 - accuracy: 0.9915\n",
      "Epoch 15/16\n",
      "420/420 [==============================] - 25s 59ms/step - loss: 0.0233 - accuracy: 0.9926\n",
      "Epoch 16/16\n",
      "420/420 [==============================] - 23s 54ms/step - loss: 0.0311 - accuracy: 0.9911\n",
      "105/105 [==============================] - 2s 13ms/step - loss: 0.4406 - accuracy: 0.9173\n",
      "Test loss: 0.44062793254852295\n",
      "Test accuracy: 0.9172618985176086\n"
     ]
    }
   ],
   "source": [
    "# Define and compile the model\n",
    "model = Sequential()\n",
    "model.add(layers.Conv2D(32, (5, 5), input_shape=img_shape, activation='relu'))\n",
    "model.add(layers.MaxPooling2D((2, 2)))\n",
    "model.add(layers.Conv2D(64, (5, 5), activation='relu'))\n",
    "model.add(layers.MaxPooling2D((2, 2)))\n",
    "model.add(layers.Flatten())\n",
    "model.add(layers.Dense(1024, activation='relu'))\n",
    "model.add(layers.Dense(n_class, activation='softmax'))\n",
    "model.compile(loss='categorical_crossentropy', optimizer='adam', metrics=['accuracy'])\n",
    "\n",
    "# Train and evaluate the model\n",
    "model.fit(train_images, train_labels, epochs=16, batch_size=32)\n",
    "loss, acc = model.evaluate(test_images, test_labels, batch_size=32)\n",
    "print('Test loss:', loss)\n",
    "print('Test accuracy:', acc)\n"
   ]
  },
  {
   "cell_type": "code",
   "execution_count": 6,
   "id": "5f252335-379b-47f9-9c40-ecccb4f11807",
   "metadata": {},
   "outputs": [
    {
     "name": "stdout",
     "output_type": "stream",
     "text": [
      "[[120   0   0   0   0   0   0   0   0   0   0   0   0   0   0   0   0   0   0   0   0   0   0   0   0   0   0   0]\n",
      " [  0 117   1   0   0   0   0   0   1   0   0   0   0   0   0   0   0   0   0   0   0   0   0   0   1   0   0   0]\n",
      " [  0   0 116   0   1   0   0   0   0   0   0   0   0   0   0   0   0   0   0   0   2   0   0   0   0   0   1   0]\n",
      " [  0   0  10 106   0   0   0   1   1   0   0   0   0   0   0   0   0   2   0   0   0   0   0   0   0   0   0   0]\n",
      " [  0   0   0   0 114   2   0   0   0   0   0   0   1   0   0   0   0   0   0   0   1   0   0   0   0   0   2   0]\n",
      " [  0   0   0   0   2 115   1   0   0   0   0   0   0   0   0   0   0   2   0   0   0   0   0   0   0   0   0   0]\n",
      " [  0   0   0   0   0   7 106   0   0   0   0   0   0   0   0   0   0   5   2   0   0   0   0   0   0   0   0   0]\n",
      " [  0   0   0   0   1   1   0 111   5   1   1   0   0   0   0   0   0   0   0   0   0   0   0   0   0   0   0   0]\n",
      " [  0   0   0   0   0   0   0   6 110   0   3   0   0   0   0   0   0   0   0   0   0   0   0   0   0   0   1   0]\n",
      " [  0   0   0   0   0   0   0   2   0 112   5   0   0   0   0   0   0   0   0   0   0   0   0   0   0   0   1   0]\n",
      " [  1   0   0   0   0   0   0   1   5  13  98   0   0   0   0   0   0   0   0   0   0   0   0   1   1   0   0   0]\n",
      " [  0   2   0   0   0   0   0   0   0   0   0 111   0   3   0   0   0   0   0   0   0   0   0   0   0   1   0   3]\n",
      " [  0   0   0   1   0   0   0   0   0   0   0   0 114   0   0   0   0   0   0   1   1   0   0   0   0   0   0   3]\n",
      " [  0   0   0   0   0   0   0   0   0   0   0   1   0 116   0   0   0   0   0   0   0   0   0   2   0   1   0   0]\n",
      " [  0   0   1   0   0   0   0   0   0   0   0   1   1   6 102   0   1   0   0   5   2   0   0   0   1   0   0   0]\n",
      " [  0   0   0   0   0   0   1   2   3   0   0   0   0   0   0 112   2   0   0   0   0   0   0   0   0   0   0   0]\n",
      " [  0   0   0   0   0   0   0   0   1   2   0   0   0   0   0   9 105   0   1   0   2   0   0   0   0   0   0   0]\n",
      " [  0   0   0   0   2   4   1   0   0   0   0   0   0   0   0   0   0 108   2   0   0   1   0   1   0   0   0   1]\n",
      " [  0   0   0   0   0   0   9   0   0   0   0   0   0   0   0   0   0   5 106   0   0   0   0   0   0   0   0   0]\n",
      " [  0   1   3   0   0   0   0   0   2   0   0   0   0   0   1   0   0   0   0  99  12   1   0   0   1   0   0   0]\n",
      " [  0   0   1   1   0   1   0   1   1   0   0   0   0   0   0   0   0   0   0   1 113   0   0   0   0   0   0   1]\n",
      " [  0   1   1   0   0   0   0   0   0   1   0   0   0   0   0   0   0   0   0   0   2 113   0   0   1   0   1   0]\n",
      " [  0   0   0   0   0   0   0   0   1   0   0   0   0   0   0   0   0   0   0   0   0   1 118   0   0   0   0   0]\n",
      " [  2   0   0   0   0   0   0   0   0   1   0   0   0   0   0   0   0   0   0   0   0   0   0 116   0   0   1   0]\n",
      " [  0   2   8   2   0   0   0   0   1   0   1   0   1   0   0   0   0   1   0   1   0   1   0   0 100   0   1   1]\n",
      " [  0   0   1   0   0   0   0   1   0   1   0   0   0   0   0   0   1   0   0   0   1   0   0   0   0  93  22   0]\n",
      " [  0   0   0   0   0   0   0   3   0   1   0   0   0   0   0   0   0   0   0   0   0   0   0   0   0   0 116   0]\n",
      " [  0   0   0   0   0   0   0   0   0   0   0   0   1   0   0   0   1   0   0   0   1   0   1   0   0   0   1 115]]\n"
     ]
    }
   ],
   "source": [
    "# Make predictions on the test data\n",
    "predictions = model.predict(test_images)\n",
    "# Convert the predictions and test labels to one-hot encoded form\n",
    "arabic_characters = np.array(['أ', 'ب', 'ت', 'ث', 'ج', 'ح', 'خ', 'د', 'ذ', 'ر', 'ز', 'س', 'ش', 'ص', 'ض', 'ط', 'ظ', 'ع', 'غ', 'ف', 'ق', 'ك', 'ل', 'م', 'ن', 'ه', 'و', 'ي'])\n",
    "predictions = arabic_characters[np.argmax(predictions, axis=1)]\n",
    "y_test = arabic_characters[np.argmax(test_labels, axis=1)]\n",
    "\n",
    "print(confusion_matrix(y_test, predictions))"
   ]
  },
  {
   "cell_type": "code",
   "execution_count": 7,
   "id": "21d4e5b6-9c06-4b4d-ad79-00584905f08a",
   "metadata": {},
   "outputs": [
    {
     "name": "stdout",
     "output_type": "stream",
     "text": [
      "              precision    recall  f1-score   support\n",
      "\n",
      "           أ       0.98      1.00      0.99       120\n",
      "           ب       0.95      0.97      0.96       120\n",
      "           ت       0.82      0.97      0.89       120\n",
      "           ث       0.96      0.88      0.92       120\n",
      "           ج       0.95      0.95      0.95       120\n",
      "           ح       0.88      0.96      0.92       120\n",
      "           خ       0.90      0.88      0.89       120\n",
      "           د       0.87      0.93      0.90       120\n",
      "           ذ       0.84      0.92      0.88       120\n",
      "           ر       0.85      0.93      0.89       120\n",
      "           ز       0.91      0.82      0.86       120\n",
      "           س       0.98      0.93      0.95       120\n",
      "           ش       0.97      0.95      0.96       120\n",
      "           ص       0.93      0.97      0.95       120\n",
      "           ض       0.99      0.85      0.91       120\n",
      "           ط       0.93      0.93      0.93       120\n",
      "           ظ       0.95      0.88      0.91       120\n",
      "           ع       0.88      0.90      0.89       120\n",
      "           غ       0.95      0.88      0.92       120\n",
      "           ف       0.93      0.82      0.87       120\n",
      "           ق       0.82      0.94      0.88       120\n",
      "           ك       0.97      0.94      0.95       120\n",
      "           ل       0.99      0.98      0.99       120\n",
      "           م       0.97      0.97      0.97       120\n",
      "           ن       0.95      0.83      0.89       120\n",
      "           ه       0.98      0.78      0.87       120\n",
      "           و       0.79      0.97      0.87       120\n",
      "           ي       0.93      0.96      0.94       120\n",
      "\n",
      "    accuracy                           0.92      3360\n",
      "   macro avg       0.92      0.92      0.92      3360\n",
      "weighted avg       0.92      0.92      0.92      3360\n",
      "\n"
     ]
    }
   ],
   "source": [
    "print(classification_report(y_test, predictions))"
   ]
  },
  {
   "cell_type": "code",
   "execution_count": null,
   "id": "82ef450e",
   "metadata": {},
   "outputs": [],
   "source": []
  }
 ],
 "metadata": {
  "kernelspec": {
   "display_name": "Python 3",
   "language": "python",
   "name": "python3"
  },
  "language_info": {
   "codemirror_mode": {
    "name": "ipython",
    "version": 3
   },
   "file_extension": ".py",
   "mimetype": "text/x-python",
   "name": "python",
   "nbconvert_exporter": "python",
   "pygments_lexer": "ipython3",
   "version": "3.10.8 (tags/v3.10.8:aaaf517, Oct 11 2022, 16:50:30) [MSC v.1933 64 bit (AMD64)]"
  },
  "vscode": {
   "interpreter": {
    "hash": "76d7c06053c3456e5600312cec90888656fc0ed30c03d8425b9dac6e4fc8e014"
   }
  }
 },
 "nbformat": 4,
 "nbformat_minor": 5
}
